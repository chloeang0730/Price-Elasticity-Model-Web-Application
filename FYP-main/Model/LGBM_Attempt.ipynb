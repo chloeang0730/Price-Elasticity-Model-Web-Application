{
 "cells": [
  {
   "cell_type": "markdown",
   "id": "bdec6cc3",
   "metadata": {
    "papermill": {
     "duration": 0.009041,
     "end_time": "2023-12-07T23:39:48.214932",
     "exception": false,
     "start_time": "2023-12-07T23:39:48.205891",
     "status": "completed"
    },
    "tags": []
   },
   "source": [
    "## Libraries"
   ]
  },
  {
   "cell_type": "code",
   "execution_count": null,
   "id": "a745b76f",
   "metadata": {
    "papermill": {
     "duration": 15.603149,
     "end_time": "2023-12-07T23:40:03.825904",
     "exception": false,
     "start_time": "2023-12-07T23:39:48.222755",
     "status": "completed"
    },
    "tags": []
   },
   "outputs": [],
   "source": [
    "%pip install -qqq \"mlforecast[lag_transforms]\""
   ]
  },
  {
   "cell_type": "code",
   "execution_count": 2,
   "id": "1ff92a2c",
   "metadata": {
    "_cell_guid": "b1076dfc-b9ad-4769-8c92-a6c4dae69d19",
    "_uuid": "8f2839f25d086af736a60e9eeb907d3b93b6e0e5",
    "papermill": {
     "duration": 4.496468,
     "end_time": "2023-12-07T23:40:08.329764",
     "exception": false,
     "start_time": "2023-12-07T23:40:03.833296",
     "status": "completed"
    },
    "tags": []
   },
   "outputs": [],
   "source": [
    "from pathlib import Path\n",
    "\n",
    "import lightgbm as lgb\n",
    "import mlforecast\n",
    "import numpy as np\n",
    "import pandas as pd\n",
    "from mlforecast import MLForecast\n",
    "from mlforecast.lag_transforms import ExpandingMean, RollingMean, SeasonalRollingMean"
   ]
  },
  {
   "cell_type": "code",
   "execution_count": null,
   "id": "662c7047",
   "metadata": {},
   "outputs": [],
   "source": [
    "import mlforecast"
   ]
  },
  {
   "cell_type": "code",
   "execution_count": null,
   "id": "6e302c2e",
   "metadata": {
    "papermill": {
     "duration": 0.016153,
     "end_time": "2023-12-07T23:40:08.353146",
     "exception": false,
     "start_time": "2023-12-07T23:40:08.336993",
     "status": "completed"
    },
    "tags": []
   },
   "outputs": [],
   "source": [
    "mlforecast.__version__"
   ]
  },
  {
   "cell_type": "markdown",
   "id": "52d70a58",
   "metadata": {
    "papermill": {
     "duration": 0.006816,
     "end_time": "2023-12-07T23:40:08.403070",
     "exception": false,
     "start_time": "2023-12-07T23:40:08.396254",
     "status": "completed"
    },
    "tags": []
   },
   "source": [
    "### Calendar"
   ]
  },
  {
   "cell_type": "code",
   "execution_count": null,
   "id": "304074df",
   "metadata": {
    "papermill": {
     "duration": 0.06353,
     "end_time": "2023-12-07T23:40:08.473312",
     "exception": false,
     "start_time": "2023-12-07T23:40:08.409782",
     "status": "completed"
    },
    "tags": []
   },
   "outputs": [],
   "source": [
    "cal_dtypes = {\n",
    "    'd': 'category',\n",
    "    'wm_yr_wk': np.uint16,\n",
    "    'event_name_1': 'category',\n",
    "    'event_type_1': 'category',\n",
    "    'event_name_2': 'category',\n",
    "    'event_type_2': 'category',\n",
    "    'snap_CA': np.uint8,\n",
    "    'snap_TX': np.uint8,\n",
    "    'snap_WI': np.uint8,\n",
    "}\n",
    "cal = pd.read_csv( 'calendar.csv', \n",
    "                  dtype=cal_dtypes, \n",
    "                  usecols=list(cal_dtypes.keys()) + ['date'], \n",
    "                  parse_dates=['date'])\n",
    "event_cols = [k for k in cal_dtypes if k.startswith('event')]\n",
    "for col in event_cols:\n",
    "    cal[col] = cal[col].cat.add_categories('nan').fillna('nan')"
   ]
  },
  {
   "cell_type": "markdown",
   "id": "b4e17e99",
   "metadata": {
    "papermill": {
     "duration": 0.006857,
     "end_time": "2023-12-07T23:40:08.487293",
     "exception": false,
     "start_time": "2023-12-07T23:40:08.480436",
     "status": "completed"
    },
    "tags": []
   },
   "source": [
    "### Prices"
   ]
  },
  {
   "cell_type": "code",
   "execution_count": null,
   "id": "47bba0af",
   "metadata": {
    "papermill": {
     "duration": 5.566795,
     "end_time": "2023-12-07T23:40:14.061274",
     "exception": false,
     "start_time": "2023-12-07T23:40:08.494479",
     "status": "completed"
    },
    "tags": []
   },
   "outputs": [],
   "source": [
    "prices_dtypes = {\n",
    "    'store_id': 'category',\n",
    "    'item_id': 'category',\n",
    "    'wm_yr_wk': np.uint16,\n",
    "    'sell_price': np.float32\n",
    "}\n",
    "prices = pd.read_csv('sell_prices.csv', dtype=prices_dtypes)"
   ]
  },
  {
   "cell_type": "markdown",
   "id": "638d8e1b",
   "metadata": {
    "papermill": {
     "duration": 0.007487,
     "end_time": "2023-12-07T23:40:14.077867",
     "exception": false,
     "start_time": "2023-12-07T23:40:14.070380",
     "status": "completed"
    },
    "tags": []
   },
   "source": [
    "### Sales"
   ]
  },
  {
   "cell_type": "code",
   "execution_count": null,
   "id": "2174cb5f",
   "metadata": {
    "papermill": {
     "duration": 9.082902,
     "end_time": "2023-12-07T23:40:23.168230",
     "exception": false,
     "start_time": "2023-12-07T23:40:14.085328",
     "status": "completed"
    },
    "tags": []
   },
   "outputs": [],
   "source": [
    "sales_dtypes = {\n",
    "    'id': 'category',\n",
    "    'item_id': prices.item_id.dtype,\n",
    "    'dept_id': 'category',\n",
    "    'cat_id': 'category',\n",
    "    'store_id': 'category',\n",
    "    'state_id': 'category',\n",
    "    **{f'd_{i}': np.float32 for i in range(1942)}\n",
    "}\n",
    "sales = pd.read_csv(\n",
    "    'sales_train_evaluation.csv',\n",
    "    dtype=sales_dtypes,\n",
    ")"
   ]
  },
  {
   "cell_type": "code",
   "execution_count": null,
   "id": "4a5b26a1",
   "metadata": {
    "papermill": {
     "duration": 9.821499,
     "end_time": "2023-12-07T23:40:32.997384",
     "exception": false,
     "start_time": "2023-12-07T23:40:23.175885",
     "status": "completed"
    },
    "tags": []
   },
   "outputs": [],
   "source": [
    "long = sales.melt(\n",
    "    id_vars=['id', 'item_id', 'dept_id', 'cat_id', 'store_id', 'state_id'],\n",
    "    var_name='d',\n",
    "    value_name='y'\n",
    ")"
   ]
  },
  {
   "cell_type": "code",
   "execution_count": null,
   "id": "b437cd74-6df0-4ed3-b784-618e437c44f5",
   "metadata": {},
   "outputs": [],
   "source": [
    "long=long[long['cat_id']==\"HOBBIES\"]"
   ]
  },
  {
   "cell_type": "code",
   "execution_count": null,
   "id": "fba45c4d",
   "metadata": {
    "papermill": {
     "duration": 87.245668,
     "end_time": "2023-12-07T23:42:00.250722",
     "exception": false,
     "start_time": "2023-12-07T23:40:33.005054",
     "status": "completed"
    },
    "tags": []
   },
   "outputs": [],
   "source": [
    "%%time\n",
    "print(long.shape[0])\n",
    "long['date_idx'] = long['d'].str.replace('d_', '').astype('int32')\n",
    "dates = sorted(long['date_idx'].unique())\n",
    "long = long.sort_values(['id', 'date_idx'])\n",
    "long['d'] = long['d'].astype(cal.d.dtype)\n",
    "long = long.merge(cal, on=['d'])\n",
    "long = long.merge(prices, on=['store_id', 'item_id', 'wm_yr_wk'])\n",
    "last_wmyrwk = long['wm_yr_wk'].max()\n",
    "last_date_train = long['date'].max()\n",
    "long = long.drop(columns=['d', 'date_idx', 'wm_yr_wk'])\n",
    "long = long.sample(frac=1.0, random_state=0).reset_index(drop=True)\n",
    "long=long[long['sell_price'].notna()]\n"
   ]
  },
  {
   "cell_type": "code",
   "execution_count": null,
   "id": "5e3cf2f5",
   "metadata": {},
   "outputs": [],
   "source": [
    "without_leading_zeros = long['y'].gt(0).groupby(long['id']).transform('cummax')\n",
    "above_min_date = long['date_idx'] >= dates[-400]\n",
    "keep_mask = without_leading_zeros & above_min_date\n",
    "long = long[keep_mask]\n",
    "print(long.shape[0])"
   ]
  },
  {
   "cell_type": "code",
   "execution_count": null,
   "id": "908450db",
   "metadata": {},
   "outputs": [],
   "source": [
    "# build future X\n",
    "future_cal = cal[cal['date'] > last_date_train]\n",
    "future_prices = prices[prices['wm_yr_wk'] >= last_wmyrwk].copy()\n",
    "future_prices['id'] = future_prices['item_id'].astype(str) + '_' + future_prices['store_id'].astype(str) + '_evaluation'\n",
    "future_prices['id']=future_prices['id'].astype(sales.id.dtype)\n",
    "X_df = future_prices.merge(future_cal, on='wm_yr_wk').drop(columns=['store_id', 'item_id', 'wm_yr_wk', 'd'])"
   ]
  },
  {
   "cell_type": "code",
   "execution_count": null,
   "id": "54608e9c-0e72-4a57-9b05-589cd6f49965",
   "metadata": {},
   "outputs": [],
   "source": [
    "X_df['id'] = X_df['id'].str.replace('_evaluation', '').astype('category')"
   ]
  },
  {
   "cell_type": "code",
   "execution_count": null,
   "id": "4c9800bf-5b85-4ab9-b15a-494e8f613c5b",
   "metadata": {},
   "outputs": [],
   "source": [
    "X_df.to_csv(\"X_df.csv\",index=False)"
   ]
  },
  {
   "cell_type": "markdown",
   "id": "575fbc46",
   "metadata": {
    "papermill": {
     "duration": 0.007806,
     "end_time": "2023-12-07T23:42:12.308923",
     "exception": false,
     "start_time": "2023-12-07T23:42:12.301117",
     "status": "completed"
    },
    "tags": []
   },
   "source": [
    "## Training"
   ]
  },
  {
   "cell_type": "code",
   "execution_count": null,
   "id": "ac9c5181",
   "metadata": {
    "papermill": {
     "duration": 0.02087,
     "end_time": "2023-12-07T23:42:12.337204",
     "exception": false,
     "start_time": "2023-12-07T23:42:12.316334",
     "status": "completed"
    },
    "tags": []
   },
   "outputs": [],
   "source": [
    "model_params = {\n",
    "    'verbose': -1,\n",
    "    'force_col_wise': True,\n",
    "    'num_leaves': 256,\n",
    "    'n_estimators': 50,\n",
    "}\n",
    "\n",
    "fcst = MLForecast(\n",
    "    models=[lgb.LGBMRegressor(**model_params)],\n",
    "    freq='D',\n",
    "    lags=[7 * (i+1) for i in range(8)],\n",
    "    lag_transforms = {\n",
    "        1:  [ExpandingMean()],\n",
    "        7:  [RollingMean(7), RollingMean(14), RollingMean(28), SeasonalRollingMean(7, 4)],\n",
    "        14: [RollingMean(7), RollingMean(14), RollingMean(28), SeasonalRollingMean(7, 4)],\n",
    "        28: [RollingMean(7), RollingMean(14), RollingMean(28), SeasonalRollingMean(7, 4)],\n",
    "    },\n",
    "    date_features=['year', 'month', 'day', 'dayofweek', 'quarter', 'week'],    \n",
    "    num_threads=4,\n",
    ")"
   ]
  },
  {
   "cell_type": "code",
   "execution_count": null,
   "id": "6e4389f9-1f79-4bc6-af95-a84bc002c9c9",
   "metadata": {},
   "outputs": [],
   "source": [
    "long.drop(['item_id','dept_id','state_id'],axis=1,inplace=True)"
   ]
  },
  {
   "cell_type": "code",
   "execution_count": null,
   "id": "3d2a5ab8-6051-4cf6-8a3d-b3f49cb68380",
   "metadata": {},
   "outputs": [],
   "source": [
    "long.rename(columns={\"y\":\"sold\"},inplace=True)"
   ]
  },
  {
   "cell_type": "code",
   "execution_count": null,
   "id": "385fe5ec-1e58-459c-af22-86f97f9d2fa6",
   "metadata": {},
   "outputs": [],
   "source": [
    "y=pd.DataFrame(long['date'].dt.to_period('M'))"
   ]
  },
  {
   "cell_type": "code",
   "execution_count": null,
   "id": "c66bbc95-d173-4ca5-84b9-b6ce4eedcbf5",
   "metadata": {},
   "outputs": [],
   "source": [
    "y.rename(columns={'date':'YearMonth'},inplace=True)"
   ]
  },
  {
   "cell_type": "code",
   "execution_count": null,
   "id": "8772edfc-5c24-48b5-9b35-c17f7f36f64e",
   "metadata": {},
   "outputs": [],
   "source": [
    "long=pd.concat([long.iloc[:, :4], y, long.iloc[:, 4:]], axis=1)"
   ]
  },
  {
   "cell_type": "code",
   "execution_count": null,
   "id": "652c58ed-5e6d-4eaa-98f7-5d3b250fdb31",
   "metadata": {},
   "outputs": [],
   "source": [
    "long['id'] = long['id'].str.replace('_evaluation', '').astype('category')"
   ]
  },
  {
   "cell_type": "code",
   "execution_count": null,
   "id": "b3d3b6cf-02f4-45f9-84e2-a98059fc4a5e",
   "metadata": {},
   "outputs": [],
   "source": [
    "long['sold']=long['sold'].astype('int16')"
   ]
  },
  {
   "cell_type": "code",
   "execution_count": null,
   "id": "96f39443-b31b-4e03-8d0d-ea4efadc0393",
   "metadata": {},
   "outputs": [],
   "source": [
    "long.head()"
   ]
  },
  {
   "cell_type": "code",
   "execution_count": null,
   "id": "712e8dbc-800d-4cc4-9f0e-be9d2bfd59a4",
   "metadata": {},
   "outputs": [],
   "source": [
    "long.dtypes"
   ]
  },
  {
   "cell_type": "code",
   "execution_count": null,
   "id": "d153ffe2-22f8-40da-9ac5-32fc5e54f08d",
   "metadata": {},
   "outputs": [],
   "source": [
    "sum(long.memory_usage())"
   ]
  },
  {
   "cell_type": "code",
   "execution_count": null,
   "id": "992b4768-fc20-4bcb-812d-eb0e31c85eda",
   "metadata": {},
   "outputs": [],
   "source": [
    "long.to_csv(\"long.csv\",index=False)"
   ]
  },
  {
   "cell_type": "code",
   "execution_count": null,
   "id": "acc3df42-50e3-40a4-903f-99e00967c154",
   "metadata": {},
   "outputs": [],
   "source": [
    "def downcast(df):\n",
    "    cols = df.dtypes.index.tolist()\n",
    "    types = df.dtypes.values.tolist()\n",
    "    for i,t in enumerate(types):\n",
    "        if 'int' in str(t):\n",
    "            if df[cols[i]].min() > np.iinfo(np.int8).min and df[cols[i]].max() < np.iinfo(np.int8).max:\n",
    "                df[cols[i]] = df[cols[i]].astype(np.int8)\n",
    "            elif df[cols[i]].min() > np.iinfo(np.int16).min and df[cols[i]].max() < np.iinfo(np.int16).max:\n",
    "                df[cols[i]] = df[cols[i]].astype(np.int16)\n",
    "            elif df[cols[i]].min() > np.iinfo(np.int32).min and df[cols[i]].max() < np.iinfo(np.int32).max:\n",
    "                df[cols[i]] = df[cols[i]].astype(np.int32)\n",
    "            else:\n",
    "                df[cols[i]] = df[cols[i]].astype(np.int64)\n",
    "        elif 'float' in str(t):\n",
    "            if df[cols[i]].min() > np.finfo(np.float16).min and df[cols[i]].max() < np.finfo(np.float16).max:\n",
    "                df[cols[i]] = df[cols[i]].astype(np.float16)\n",
    "            elif df[cols[i]].min() > np.finfo(np.float32).min and df[cols[i]].max() < np.finfo(np.float32).max:\n",
    "                df[cols[i]] = df[cols[i]].astype(np.float32)\n",
    "            else:\n",
    "                df[cols[i]] = df[cols[i]].astype(np.float64)\n",
    "        elif t == object:\n",
    "            if cols[i] == 'date':\n",
    "                df[cols[i]] = pd.to_datetime(df[cols[i]], format='%Y-%m-%d')\n",
    "            else:\n",
    "                df[cols[i]] = df[cols[i]].astype('category')\n",
    "    return df  \n"
   ]
  },
  {
   "cell_type": "code",
   "execution_count": null,
   "id": "778e46a0-a2eb-4bcf-814b-ee374842768d",
   "metadata": {},
   "outputs": [],
   "source": [
    "long=downcast(long)"
   ]
  },
  {
   "cell_type": "code",
   "execution_count": null,
   "id": "b23b4ada",
   "metadata": {
    "papermill": {
     "duration": 141.883943,
     "end_time": "2023-12-07T23:44:34.228515",
     "exception": false,
     "start_time": "2023-12-07T23:42:12.344572",
     "status": "completed"
    },
    "tags": []
   },
   "outputs": [],
   "source": [
    "%%time\n",
    "fcst.fit(\n",
    "    long.drop(columns=['YearMonth'],inplace=False),\n",
    "    id_col='id',\n",
    "    time_col='date',\n",
    "    target_col='sold',\n",
    "    static_features=['id',  'cat_id', 'store_id'],\n",
    ")"
   ]
  },
  {
   "cell_type": "markdown",
   "id": "87691971",
   "metadata": {
    "papermill": {
     "duration": 0.007182,
     "end_time": "2023-12-07T23:44:34.243604",
     "exception": false,
     "start_time": "2023-12-07T23:44:34.236422",
     "status": "completed"
    },
    "tags": []
   },
   "source": [
    "## Forecasting"
   ]
  },
  {
   "cell_type": "code",
   "execution_count": null,
   "id": "33b32571",
   "metadata": {},
   "outputs": [],
   "source": [
    "%time preds = fcst.predict(28, X_df=X_df)"
   ]
  },
  {
   "cell_type": "code",
   "execution_count": null,
   "id": "287a006a-9003-4987-97fd-26e6198b6e40",
   "metadata": {},
   "outputs": [],
   "source": [
    " preds = fcst.predict(28, X_df=X_df)"
   ]
  },
  {
   "cell_type": "code",
   "execution_count": null,
   "id": "5cafbf35-8b1c-4bf5-90f6-55cfa3e7aaa1",
   "metadata": {},
   "outputs": [],
   "source": [
    "preds"
   ]
  },
  {
   "cell_type": "markdown",
   "id": "ffe19101",
   "metadata": {
    "papermill": {
     "duration": 0.007676,
     "end_time": "2023-12-07T23:44:41.381917",
     "exception": false,
     "start_time": "2023-12-07T23:44:41.374241",
     "status": "completed"
    },
    "tags": []
   },
   "source": [
    "## Converting To Horizontal\n"
   ]
  },
  {
   "cell_type": "code",
   "execution_count": null,
   "id": "afc98a24",
   "metadata": {
    "papermill": {
     "duration": 0.546217,
     "end_time": "2023-12-07T23:44:41.935873",
     "exception": false,
     "start_time": "2023-12-07T23:44:41.389656",
     "status": "completed"
    },
    "tags": []
   },
   "outputs": [],
   "source": [
    "wide = preds.pivot_table(index='id', columns='date')\n",
    "wide.columns = [f'F{i+1}' for i in range(28)]\n",
    "wide.columns.name = None\n",
    "wide.index.name = 'id'\n",
    "wide"
   ]
  }
 ],
 "metadata": {
  "kaggle": {
   "accelerator": "none",
   "dataSources": [
    {
     "databundleVersionId": 1236839,
     "sourceId": 18599,
     "sourceType": "competition"
    }
   ],
   "isGpuEnabled": false,
   "isInternetEnabled": true,
   "language": "python",
   "sourceType": "notebook"
  },
  "kernelspec": {
   "display_name": "Python 3 (ipykernel)",
   "language": "python",
   "name": "python3"
  },
  "language_info": {
   "codemirror_mode": {
    "name": "ipython",
    "version": 3
   },
   "file_extension": ".py",
   "mimetype": "text/x-python",
   "name": "python",
   "nbconvert_exporter": "python",
   "pygments_lexer": "ipython3",
   "version": "3.11.7"
  },
  "papermill": {
   "default_parameters": {},
   "duration": 301.081354,
   "end_time": "2023-12-07T23:44:45.925134",
   "environment_variables": {},
   "exception": null,
   "input_path": "__notebook__.ipynb",
   "output_path": "__notebook__.ipynb",
   "parameters": {},
   "start_time": "2023-12-07T23:39:44.843780",
   "version": "2.4.0"
  }
 },
 "nbformat": 4,
 "nbformat_minor": 5
}
