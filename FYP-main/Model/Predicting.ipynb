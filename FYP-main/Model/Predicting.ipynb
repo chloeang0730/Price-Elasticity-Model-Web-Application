{
 "cells": [
  {
   "cell_type": "code",
   "execution_count": 3,
   "id": "f9ed5284-2ef9-418d-9a80-806da3af04ff",
   "metadata": {},
   "outputs": [],
   "source": [
    "import streamlit as st\n",
    "\n",
    "import pandas as pd\n",
    "import statsmodels.api as sm \n",
    "import numpy as np\n",
    "\n",
    "\n",
    "from time import  time\n",
    "import plotly.express as px\n",
    "from pathlib import Path\n",
    "import plotly.graph_objects as go\n"
   ]
  },
  {
   "cell_type": "code",
   "execution_count": 4,
   "id": "b27e6877-aafd-4744-9859-11d7035dbbf7",
   "metadata": {},
   "outputs": [],
   "source": [
    "data=pd.read_csv(\"final.csv\")"
   ]
  },
  {
   "cell_type": "code",
   "execution_count": 5,
   "id": "67e44e70-1c1d-4036-b5df-4a94f855cba3",
   "metadata": {},
   "outputs": [],
   "source": [
    "data['sell_price'] = data['sell_price'].astype('float')\n",
    "data['sold'] = data['sold'].astype('int')\n",
    "\n"
   ]
  },
  {
   "cell_type": "code",
   "execution_count": 6,
   "id": "faa2a7ab-bf71-4589-a295-fd84e7400eb1",
   "metadata": {},
   "outputs": [],
   "source": [
    "def group_df(df):\n",
    "    temp=df.groupby(['id','YearMonth','cat_id','store_id'])\n",
    "\n",
    "    return temp\n"
   ]
  },
  {
   "cell_type": "code",
   "execution_count": 7,
   "id": "c6373b3f-48b4-4d94-9982-ad87255c5094",
   "metadata": {},
   "outputs": [
    {
     "name": "stderr",
     "output_type": "stream",
     "text": [
      "C:\\Users\\lywt9\\AppData\\Local\\Temp\\ipykernel_16736\\3596184817.py:1: FutureWarning: The provided callable <function sum at 0x000001DDEA735580> is currently using SeriesGroupBy.sum. In a future version of pandas, the provided callable will be used directly. To keep current behavior pass the string \"sum\" instead.\n",
      "  test = group_df(data).aggregate({'sold':np.sum,'sell_price':np.mean})\n",
      "C:\\Users\\lywt9\\AppData\\Local\\Temp\\ipykernel_16736\\3596184817.py:1: FutureWarning: The provided callable <function mean at 0x000001DDEA736660> is currently using SeriesGroupBy.mean. In a future version of pandas, the provided callable will be used directly. To keep current behavior pass the string \"mean\" instead.\n",
      "  test = group_df(data).aggregate({'sold':np.sum,'sell_price':np.mean})\n",
      "C:\\Users\\lywt9\\AppData\\Local\\Temp\\ipykernel_16736\\3596184817.py:14: FutureWarning: Series.__getitem__ treating keys as positions is deprecated. In a future version, integer keys will always be treated as labels (consistent with DataFrame behavior). To access a value by position, use `ser.iloc[pos]`\n",
      "  hobby_ped=data.groupby(['cat_id']).apply(ped1)[0]\n"
     ]
    }
   ],
   "source": [
    "test = group_df(data).aggregate({'sold':np.sum,'sell_price':np.mean})\n",
    "\n",
    "first_values = sorted(pd.DataFrame([t[0] for t in test.index])[0].unique())\n",
    "def ped1(group):\n",
    "    X = sm.add_constant(group['sell_price'])\n",
    "    model = sm.OLS(group['sold'], X).fit()\n",
    "    price_coef = model.params['sell_price']\n",
    "    mean_sellprice = np.mean(group['sell_price'])\n",
    "    mean_quantity = np.mean(group['sold'])\n",
    "    ped = price_coef * (mean_sellprice / mean_quantity)\n",
    "\n",
    "    return ped\n",
    "\n"
   ]
  },
  {
   "cell_type": "code",
   "execution_count": 13,
   "id": "db4b0d62-230e-4b86-8821-10fed7aed5d5",
   "metadata": {},
   "outputs": [],
   "source": [
    "ped=data.groupby(['cat_id']).apply(ped1)"
   ]
  },
  {
   "cell_type": "code",
   "execution_count": 14,
   "id": "55a78c61-f285-4d2b-9d42-47f43e6f82e9",
   "metadata": {},
   "outputs": [
    {
     "name": "stderr",
     "output_type": "stream",
     "text": [
      "C:\\Users\\lywt9\\AppData\\Local\\Temp\\ipykernel_16736\\1480201535.py:1: FutureWarning: Series.__getitem__ treating keys as positions is deprecated. In a future version, integer keys will always be treated as labels (consistent with DataFrame behavior). To access a value by position, use `ser.iloc[pos]`\n",
      "  food_ped=ped[0]\n",
      "C:\\Users\\lywt9\\AppData\\Local\\Temp\\ipykernel_16736\\1480201535.py:2: FutureWarning: Series.__getitem__ treating keys as positions is deprecated. In a future version, integer keys will always be treated as labels (consistent with DataFrame behavior). To access a value by position, use `ser.iloc[pos]`\n",
      "  hobby_ped=ped[1]\n",
      "C:\\Users\\lywt9\\AppData\\Local\\Temp\\ipykernel_16736\\1480201535.py:3: FutureWarning: Series.__getitem__ treating keys as positions is deprecated. In a future version, integer keys will always be treated as labels (consistent with DataFrame behavior). To access a value by position, use `ser.iloc[pos]`\n",
      "  house_ped=ped[2]\n"
     ]
    }
   ],
   "source": [
    "food_ped=ped[0]\n",
    "hobby_ped=ped[1]\n",
    "house_ped=ped[2]"
   ]
  },
  {
   "cell_type": "code",
   "execution_count": 17,
   "id": "4bbda319-41e1-4cdb-b93d-950caff748c1",
   "metadata": {},
   "outputs": [
    {
     "data": {
      "text/plain": [
       "-0.7699144192239312"
      ]
     },
     "execution_count": 17,
     "metadata": {},
     "output_type": "execute_result"
    }
   ],
   "source": [
    "house_ped"
   ]
  },
  {
   "cell_type": "code",
   "execution_count": 48,
   "id": "4cf6abc6-ec47-4099-8faa-2c91db72a1d3",
   "metadata": {},
   "outputs": [
    {
     "data": {
      "text/plain": [
       "MultiIndex([(    'FOODS_1_001_CA_1', '2011-01',     'FOODS', 'CA_1'),\n",
       "            (    'FOODS_1_001_CA_1', '2011-02',     'FOODS', 'CA_1'),\n",
       "            (    'FOODS_1_001_CA_1', '2011-03',     'FOODS', 'CA_1'),\n",
       "            (    'FOODS_1_001_CA_1', '2011-04',     'FOODS', 'CA_1'),\n",
       "            (    'FOODS_1_001_CA_1', '2011-05',     'FOODS', 'CA_1'),\n",
       "            (    'FOODS_1_001_CA_1', '2011-06',     'FOODS', 'CA_1'),\n",
       "            (    'FOODS_1_001_CA_1', '2011-07',     'FOODS', 'CA_1'),\n",
       "            (    'FOODS_1_001_CA_1', '2011-08',     'FOODS', 'CA_1'),\n",
       "            (    'FOODS_1_001_CA_1', '2011-09',     'FOODS', 'CA_1'),\n",
       "            (    'FOODS_1_001_CA_1', '2011-10',     'FOODS', 'CA_1'),\n",
       "            ...\n",
       "            ('HOUSEHOLD_2_516_WI_3', '2015-07', 'HOUSEHOLD', 'WI_3'),\n",
       "            ('HOUSEHOLD_2_516_WI_3', '2015-08', 'HOUSEHOLD', 'WI_3'),\n",
       "            ('HOUSEHOLD_2_516_WI_3', '2015-09', 'HOUSEHOLD', 'WI_3'),\n",
       "            ('HOUSEHOLD_2_516_WI_3', '2015-10', 'HOUSEHOLD', 'WI_3'),\n",
       "            ('HOUSEHOLD_2_516_WI_3', '2015-11', 'HOUSEHOLD', 'WI_3'),\n",
       "            ('HOUSEHOLD_2_516_WI_3', '2015-12', 'HOUSEHOLD', 'WI_3'),\n",
       "            ('HOUSEHOLD_2_516_WI_3', '2016-01', 'HOUSEHOLD', 'WI_3'),\n",
       "            ('HOUSEHOLD_2_516_WI_3', '2016-02', 'HOUSEHOLD', 'WI_3'),\n",
       "            ('HOUSEHOLD_2_516_WI_3', '2016-03', 'HOUSEHOLD', 'WI_3'),\n",
       "            ('HOUSEHOLD_2_516_WI_3', '2016-04', 'HOUSEHOLD', 'WI_3')],\n",
       "           names=['id', 'YearMonth', 'cat_id', 'store_id'], length=1537959)"
      ]
     },
     "execution_count": 48,
     "metadata": {},
     "output_type": "execute_result"
    }
   ],
   "source": [
    "test.index"
   ]
  },
  {
   "cell_type": "code",
   "execution_count": 68,
   "id": "8192cd1a-7f00-4bc5-a874-c3198fa9c0d9",
   "metadata": {},
   "outputs": [],
   "source": [
    "def calc_ped(grouped,values,disc,food_ped,hobby_ped,house_ped):\n",
    "    final=[]\n",
    "    for i in range(len(values)):\n",
    "        X = sm.add_constant(grouped.loc[values[i]]['sell_price'])\n",
    "        model = sm.OLS(grouped.loc[values[i]]['sold'], X).fit()\n",
    "        mean_sellprice = np.mean(grouped.loc[values[i]]['sell_price'])\n",
    "        mean_quantity = np.mean(grouped.loc[values[i]]['sold'])\n",
    "        ped = model.params['sell_price'] * (mean_sellprice / mean_quantity)\n",
    "        if ped>0:\n",
    "            if grouped.index[i][2]=='FOODS':\n",
    "                ped=food_ped\n",
    "            elif grouped.index[i][2]=='HOBBIES':\n",
    "                ped=hobby_ped\n",
    "            else:\n",
    "                ped=house_ped\n",
    "        last_quantity=grouped.loc[values[i]]['sold'].iloc[-1]\n",
    "        last_price=grouped.loc[values[i]]['sell_price'].iloc[-1]\n",
    "        new_price=last_price*(1-(disc/100))\n",
    "        new_quantity=last_quantity*(1+ped*(last_price*((100-disc)/100)-last_price)/last_price)\n",
    "        cat=grouped.loc[values[i]].index[0][1]\n",
    "        state=grouped.loc[values[i]].index[0][2]\n",
    "        \n",
    "        final.append([values[i],cat,state,last_price,new_price,ped,last_quantity,new_quantity])\n",
    "    final=pd.DataFrame(final,columns=[\"Product ID\",\"Category\",\"State ID\",\"Original Price\",\"Discounted Price\",\"Predicted PED\",\"Original Quantity\",\"Predicted Quantity\"])\n",
    "    return final\n",
    "\n",
    "discount=0\n",
    "final=calc_ped(test,first_values,discount,food_ped,hobby_ped,house_ped)\n"
   ]
  },
  {
   "cell_type": "code",
   "execution_count": 74,
   "id": "d2053789-4c10-4994-ab66-207c0256a7f4",
   "metadata": {},
   "outputs": [
    {
     "data": {
      "text/plain": [
       "(30490, 8)"
      ]
     },
     "execution_count": 74,
     "metadata": {},
     "output_type": "execute_result"
    }
   ],
   "source": [
    "final.shape"
   ]
  },
  {
   "cell_type": "code",
   "execution_count": 75,
   "id": "294d3720-3ba4-4835-8fad-14aafeb93819",
   "metadata": {},
   "outputs": [],
   "source": [
    "final.to_csv(\"full.csv\",index=False)"
   ]
  },
  {
   "cell_type": "code",
   "execution_count": 66,
   "id": "eb69bf96-63a1-4ded-831c-4b247c85ba2d",
   "metadata": {},
   "outputs": [],
   "source": [
    "final['Discounted Price']=final['Original Price']*(1-0.1)\n",
    "final['Predicted Quantity']=final['Original Quantity']*(1+final['Predicted PED']*(final['Discounted Price']-final['Original Price'])/final['Original Price'])"
   ]
  },
  {
   "cell_type": "code",
   "execution_count": 72,
   "id": "5cbfe85d-c488-47f9-bf26-694bc8578fc5",
   "metadata": {},
   "outputs": [
    {
     "data": {
      "text/html": [
       "<div>\n",
       "<style scoped>\n",
       "    .dataframe tbody tr th:only-of-type {\n",
       "        vertical-align: middle;\n",
       "    }\n",
       "\n",
       "    .dataframe tbody tr th {\n",
       "        vertical-align: top;\n",
       "    }\n",
       "\n",
       "    .dataframe thead th {\n",
       "        text-align: right;\n",
       "    }\n",
       "</style>\n",
       "<table border=\"1\" class=\"dataframe\">\n",
       "  <thead>\n",
       "    <tr style=\"text-align: right;\">\n",
       "      <th></th>\n",
       "      <th>Product ID</th>\n",
       "      <th>Category</th>\n",
       "      <th>State ID</th>\n",
       "      <th>Original Price</th>\n",
       "      <th>Discounted Price</th>\n",
       "      <th>Predicted PED</th>\n",
       "      <th>Original Quantity</th>\n",
       "      <th>Predicted Quantity</th>\n",
       "    </tr>\n",
       "  </thead>\n",
       "  <tbody>\n",
       "    <tr>\n",
       "      <th>0</th>\n",
       "      <td>FOODS_1_001_CA_1</td>\n",
       "      <td>FOODS</td>\n",
       "      <td>CA_1</td>\n",
       "      <td>2.24</td>\n",
       "      <td>2.24</td>\n",
       "      <td>-2.969951</td>\n",
       "      <td>29</td>\n",
       "      <td>29.0</td>\n",
       "    </tr>\n",
       "    <tr>\n",
       "      <th>1</th>\n",
       "      <td>FOODS_1_001_CA_2</td>\n",
       "      <td>FOODS</td>\n",
       "      <td>CA_2</td>\n",
       "      <td>2.24</td>\n",
       "      <td>2.24</td>\n",
       "      <td>-3.586702</td>\n",
       "      <td>31</td>\n",
       "      <td>31.0</td>\n",
       "    </tr>\n",
       "    <tr>\n",
       "      <th>2</th>\n",
       "      <td>FOODS_1_001_CA_3</td>\n",
       "      <td>FOODS</td>\n",
       "      <td>CA_3</td>\n",
       "      <td>2.24</td>\n",
       "      <td>2.24</td>\n",
       "      <td>-1.592398</td>\n",
       "      <td>23</td>\n",
       "      <td>23.0</td>\n",
       "    </tr>\n",
       "    <tr>\n",
       "      <th>3</th>\n",
       "      <td>FOODS_1_001_CA_4</td>\n",
       "      <td>FOODS</td>\n",
       "      <td>CA_4</td>\n",
       "      <td>2.24</td>\n",
       "      <td>2.24</td>\n",
       "      <td>-2.441156</td>\n",
       "      <td>7</td>\n",
       "      <td>7.0</td>\n",
       "    </tr>\n",
       "    <tr>\n",
       "      <th>4</th>\n",
       "      <td>FOODS_1_001_TX_1</td>\n",
       "      <td>FOODS</td>\n",
       "      <td>TX_1</td>\n",
       "      <td>2.24</td>\n",
       "      <td>2.24</td>\n",
       "      <td>-2.014099</td>\n",
       "      <td>1</td>\n",
       "      <td>1.0</td>\n",
       "    </tr>\n",
       "  </tbody>\n",
       "</table>\n",
       "</div>"
      ],
      "text/plain": [
       "         Product ID Category State ID  Original Price  Discounted Price  \\\n",
       "0  FOODS_1_001_CA_1    FOODS     CA_1            2.24              2.24   \n",
       "1  FOODS_1_001_CA_2    FOODS     CA_2            2.24              2.24   \n",
       "2  FOODS_1_001_CA_3    FOODS     CA_3            2.24              2.24   \n",
       "3  FOODS_1_001_CA_4    FOODS     CA_4            2.24              2.24   \n",
       "4  FOODS_1_001_TX_1    FOODS     TX_1            2.24              2.24   \n",
       "\n",
       "   Predicted PED  Original Quantity  Predicted Quantity  \n",
       "0      -2.969951                 29                29.0  \n",
       "1      -3.586702                 31                31.0  \n",
       "2      -1.592398                 23                23.0  \n",
       "3      -2.441156                  7                 7.0  \n",
       "4      -2.014099                  1                 1.0  "
      ]
     },
     "execution_count": 72,
     "metadata": {},
     "output_type": "execute_result"
    }
   ],
   "source": [
    "final.head()"
   ]
  },
  {
   "cell_type": "code",
   "execution_count": null,
   "id": "ac41e585-c884-4e57-8534-773a7e8b75ba",
   "metadata": {},
   "outputs": [],
   "source": []
  }
 ],
 "metadata": {
  "kernelspec": {
   "display_name": "Python 3 (ipykernel)",
   "language": "python",
   "name": "python3"
  },
  "language_info": {
   "codemirror_mode": {
    "name": "ipython",
    "version": 3
   },
   "file_extension": ".py",
   "mimetype": "text/x-python",
   "name": "python",
   "nbconvert_exporter": "python",
   "pygments_lexer": "ipython3",
   "version": "3.11.7"
  }
 },
 "nbformat": 4,
 "nbformat_minor": 5
}
